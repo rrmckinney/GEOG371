{
 "cells": [
  {
   "cell_type": "markdown",
   "metadata": {},
   "source": [
    "# A1 - Dark Subtraction\n",
    "\n",
    "This notebook has code and directions to perform dark pixel subtraction. Run the code cells according to the directions in the A1 document and comments provided in this notebook. Use the resulting images as directed."
   ]
  },
  {
   "cell_type": "markdown",
   "metadata": {},
   "source": [
    "### Dark Subtraction\n",
    "This code cell performs a dark subtraction (DRSUB module). You will need to change a few parameters before running it. If you use IDLE, use the __*A1-Pt1-DarkSub.py script*__."
   ]
  },
  {
   "cell_type": "code",
   "execution_count": 10,
   "metadata": {},
   "outputs": [
    {
     "data": {
      "text/plain": [
       "0"
      ]
     },
     "execution_count": 10,
     "metadata": {},
     "output_type": "execute_result"
    }
   ],
   "source": [
    "# Darksubtraction\n",
    "# Have the offset values for the dark pixel ready that you determined using the GUI.\n",
    "\n",
    "# Importing the module\n",
    "from pci.drsub import *\n",
    "\n",
    "# Input file name, including file path - you need to change this accordingly\n",
    "# Use the L71018030_03020020810_radiance_sub.pix file with the correct path\n",
    "fili\t=\tr'C:\\Users\\Reags\\g371-env\\Kitchener_L7\\L71018030_03020020810_radiance_sub.pix' \n",
    "# Output file name, including path - you need to change this accordingly\n",
    "filo\t=\tr'C:\\Users\\Reags\\g371-env\\Kitchener_L7\\L71018030_03020020810_radiance_sub_DARK_Jup.pix'\n",
    "# Rectangular window (Xoffset, Yoffset, Xsize, Ysize) with the dark pixel\n",
    "# You can keep the 10x10 window size but need to change the offsets with your recorded dark pixel coordinates\n",
    "dbiw\t=\t[197, 125, 10, 10] #[x-offset, y-offset, windowsize-x, windowsize-y] change x:y offset\n",
    "drtype\t=\t'global'\n",
    "\n",
    "# Running the module with the parameters specified above\n",
    "drsub(fili, filo, dbiw, drtype)\n"
   ]
  },
  {
   "cell_type": "code",
   "execution_count": null,
   "metadata": {},
   "outputs": [],
   "source": []
  }
 ],
 "metadata": {
  "kernelspec": {
   "display_name": "Python 3",
   "language": "python",
   "name": "python3"
  },
  "language_info": {
   "codemirror_mode": {
    "name": "ipython",
    "version": 3
   },
   "file_extension": ".py",
   "mimetype": "text/x-python",
   "name": "python",
   "nbconvert_exporter": "python",
   "pygments_lexer": "ipython3",
   "version": "3.5.6"
  }
 },
 "nbformat": 4,
 "nbformat_minor": 4
}
