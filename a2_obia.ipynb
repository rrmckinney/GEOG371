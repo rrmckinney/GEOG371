{
 "cells": [
  {
   "cell_type": "markdown",
   "metadata": {},
   "source": [
    "Please follow the comments to modify the code and execute the cells one-by-one."
   ]
  },
  {
   "cell_type": "code",
   "execution_count": 1,
   "metadata": {},
   "outputs": [],
   "source": [
    "# Object-based image classification with Geomatica API\n",
    "# Based on https://support.pcigeomatics.com/hc/en-us/articles/360046636572-Object-Analyst-Batch-Classification-in-Python-Geomatica-Banff-SP2\n",
    "## Double-commented out sections is code for SVM classifier (includes rasterization), \n",
    "##   Random Trees (RT) classifier doesn't work with rasterization\n",
    "\n",
    "# *** Importing modules ***\n",
    "# *************************\n",
    "\n",
    "from pci import algo        # for all the Object-Analyst calculations\n",
    "##from pci.poly2ras import *  # for poly to raster conversion of segmentated polygon classifications (SVM only)\n",
    "import os       # for file management\n",
    "import glob     # for file management"
   ]
  },
  {
   "cell_type": "code",
   "execution_count": 2,
   "metadata": {},
   "outputs": [],
   "source": [
    "# *** Setting up folders ***\n",
    "# **************************\n",
    "\n",
    "# Change folder paths accordingly\n",
    "input_main = r\"C:\\Users\\Reags\\g371-env\"\n",
    "input_initial = r\"C:\\Users\\Reags\\g371-env\"\n",
    "input_addtl = r\"C:\\Users\\Reags\\g371-env\\Additional_images_clip\"\n",
    "output_folder = r\"C:\\Users\\Reags\\g371-env\\Python_processing_clip\""
   ]
  },
  {
   "cell_type": "code",
   "execution_count": 3,
   "metadata": {},
   "outputs": [],
   "source": [
    "# *** Defining input variables ***\n",
    "# ********************************\n",
    "\n",
    "# Initial Image - This image will be used to generate the training model\n",
    "init_image = os.path.join(input_initial, \"June2015clip.pix\")\n",
    "# Ground truth point file\n",
    "ground_truth = os.path.join(input_main, \"training_points_clip_a2.pix\")\n",
    "# Additional Images - The batch classification will be run images in this folder\n",
    "add_images = input_addtl\n",
    "\n",
    "\n",
    "# *** Defining output variables ***\n",
    "# *********************************\n",
    "\n",
    "# Intial segmentation containing the training sites ... to be created\n",
    "init_seg = os.path.join(output_folder, \"June2015clip_seg_OBIA.pix\")\n",
    "# Text file containing exported attribute names\n",
    "fld = os.path.join(output_folder, \"Training_SegAttr.txt\")\n",
    "# Training model\n",
    "training_model = os.path.join(output_folder, \"Training_model_clip.xml\")"
   ]
  },
  {
   "cell_type": "code",
   "execution_count": 4,
   "metadata": {},
   "outputs": [
    {
     "name": "stdout",
     "output_type": "stream",
     "text": [
      "Processing initial image: June2015clip.pix\n"
     ]
    },
    {
     "data": {
      "text/plain": [
       "2"
      ]
     },
     "execution_count": 4,
     "metadata": {},
     "output_type": "execute_result"
    }
   ],
   "source": [
    "# ***Processing initial image***\n",
    "# ******************************\n",
    "\n",
    "print(\"Processing initial image:\", os.path.basename(init_image))\n",
    "\n",
    "# OASEG (OASEGSAR) - Segment an image\n",
    "algo.oaseg(fili=init_image, filo=init_seg, segscale=[35], segshape=[0.5], segcomp=[0.5])\n",
    "\n",
    "# OACALCATT (OACALCATTSAR) - Calculate object attributes\n",
    "algo.oacalcatt(fili=init_image, dbic=[2, 3, 4, 5, 6], filv=init_seg, dbvs=[2], filo=init_seg, dbov=[2], statatt=\"MAX, MEAN\",\n",
    "               geoatt=\"REC\", index=\"NDVI\")\n",
    "\n",
    "# OAGTIMPORT - Import ground-truth points into an existing segmentation\n",
    "algo.oagtimport(gtfili=ground_truth, gtfldnme=\"Training\", filv=init_seg, dbvs=[2],filo=init_seg, dbov=[2],\n",
    "                samptype=\"Training\", resrule=\"First\")\n",
    "\n",
    "# OAFLDNMEXP - Export names of attribute fields from Focus Object Analyst to a text file\n",
    "algo.oafldnmexp(filv=init_seg, dbvs=[2], fldnmflt=\"ALL_OA\", tfile=fld)\n",
    "\n",
    "\n",
    "# Random Trees Classification: 2 code lines below\n",
    "#OARTTRAIN - Object-based Random Trees training\n",
    "algo.oarttrain(filv=init_seg, dbvs=[2], tfile=fld, trnmodel=training_model)\n",
    "\n",
    "# OARTCLASS - Object-based Random Trees classifier\n",
    "algo.oartclass(filv=init_seg, dbvs=[2], trnmodel=training_model, filo=init_seg, dbov=[2])\n",
    "\n",
    "\n",
    "### SVM Classification - 2 code lines below\n",
    "### OASVMTRAIN - Object-based SVM training\n",
    "##algo.oasvmtrain(filv=init_seg, dbvs=[2], trnfld=\"Training\", tfile=fld, kernel=\"RBF\", trnmodel=training_model)\n",
    "##\n",
    "### OASVMCLASS - Object-based SVM classifier\n",
    "##algo.oasvmclass(filv=init_seg, dbvs=[2], trnmodel=training_model, filo=init_seg, dbov=[2])\n",
    "\n",
    "### Rasterizing the initial image (only for SVM)\n",
    "##print (\"Rasterizing initial image\")\n",
    "##poly2ras(fili = init_seg , dbvs = [2], filo = os.path.join(output_folder, \"June2015clip_seg_ras_OBIA.pix\"),\n",
    "##         dboc = [], imgtyp = \"Raster\", fldnme = \"Label\", pixres = [30, 30], ftype = \"PIX\", foptions = \"\")"
   ]
  },
  {
   "cell_type": "code",
   "execution_count": 7,
   "metadata": {},
   "outputs": [
    {
     "name": "stdout",
     "output_type": "stream",
     "text": [
      "Processing additional images in batch...\n",
      "Currently processing: June2016clip.pix\n",
      "Currently processing: June2018clip.pix\n",
      "Currently processing: June2019clip.pix\n",
      "All done.\n"
     ]
    }
   ],
   "source": [
    "# *** Starting Batch Section ***\n",
    "# ******************************\n",
    "\n",
    "# Apply training model and classify additional image in batch\n",
    "print(\"Processing additional images in batch...\")\n",
    "file_list = glob.glob(os.path.join(add_images, \"*.pix\"))\n",
    "\n",
    "for image in file_list:\n",
    "    print(\"Currently processing:\", os.path.basename(image))\n",
    "    add_seg = os.path.join(output_folder, os.path.basename(os.path.splitext(image)[0]) + '_seg100_OBIA.pix')\n",
    "\n",
    "    # OASEG (OASEGSAR) - Segment an image\n",
    "    algo.oaseg(fili=image, filo=add_seg, segscale=[100], segshape=[0.5], segcomp=[0.5])\n",
    "\n",
    "    # OACALCATT (OACALCATTSAR) - Calculate object attributes\n",
    "    algo.oacalcatt(fili=image, dbic=[2,3,4,5,6], filv=add_seg, dbvs=[2], filo=add_seg, dbov=[2], statatt=\"MAX, MEAN\",\n",
    "                   geoatt=\"REC\", index=\"NDVI\")\n",
    "\n",
    "    # OARTCLASS - Object-based Random Trees classifier\n",
    "    algo.oartclass(filv=add_seg, dbvs=[2], trnmodel=training_model, filo=add_seg, dbov=[2])\n",
    "    \n",
    "##    # OASVMCLASS - Object-based SVM classifier\n",
    "##    algo.oasvmclass(filv=add_seg, dbvs=[2], trnmodel=training_model, filo=add_seg, dbov=[2])\n",
    "##\n",
    "##    # POLY2RAS to create raster version of vector segmentations\n",
    "##    print (\"Rasterizing...\")\n",
    "##    add_seg_ras = os.path.join(output_folder, os.path.basename(os.path.splitext(image)[0]) + '_seg_ras_SVM.pix') # for output raster name\n",
    "##    poly2ras(fili = add_seg , dbvs = [2], filo = add_seg_ras,\n",
    "##             dboc = [], imgtyp = \"Raster\", fldnme = \"Label\", pixres = [30, 30], ftype = \"PIX\", foptions = \"\")\n",
    "\n",
    "print(\"All done.\")\n"
   ]
  }
 ],
 "metadata": {
  "kernelspec": {
   "display_name": "Python 3",
   "language": "python",
   "name": "python3"
  },
  "language_info": {
   "codemirror_mode": {
    "name": "ipython",
    "version": 3
   },
   "file_extension": ".py",
   "mimetype": "text/x-python",
   "name": "python",
   "nbconvert_exporter": "python",
   "pygments_lexer": "ipython3",
   "version": "3.5.6"
  }
 },
 "nbformat": 4,
 "nbformat_minor": 4
}
