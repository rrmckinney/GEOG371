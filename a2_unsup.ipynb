{
 "cells": [
  {
   "cell_type": "markdown",
   "metadata": {},
   "source": [
    "Unsupervised Classification - please execute the code cells, following the directions in the comments."
   ]
  },
  {
   "cell_type": "code",
   "execution_count": 1,
   "metadata": {},
   "outputs": [],
   "source": [
    "# unsupervised classifications KCLUS and ISOCLUS\n",
    "# KCLUS result will be channel 1 ... rename manually after running\n",
    "# ISOCLUS result will be channel 2 ... rename manually after running\n",
    "\n",
    "# specifying the input file - need to change path\n",
    "in_file = r\"C:\\Users\\Reags\\g371-env\\Initial_image_clip\\June2015clip.pix\""
   ]
  },
  {
   "cell_type": "code",
   "execution_count": 2,
   "metadata": {},
   "outputs": [
    {
     "name": "stdout",
     "output_type": "stream",
     "text": [
      "\n",
      "PCIMOD completed. Channels were added.\n"
     ]
    }
   ],
   "source": [
    "# Using PCIMOD to add channels to save classification outputs...\n",
    "# ...used for unsupervised and supervised classifications\n",
    "\n",
    "# Importing the module\n",
    "from pci.pcimod import *\n",
    "\n",
    "file = in_file\n",
    "pciop = 'ADD' \t        # set parameter to ADD channels\n",
    "pcival = [7, 0, 0, 0]   # set to add 7 8-bit channels \n",
    "\n",
    "try:pcimod(file, pciop, pcival)\n",
    "except PCIException as e:print(e)\n",
    "except Exception as e:print(e)\n",
    "\n",
    "print(\"\")\n",
    "print(\"PCIMOD completed. Channels were added.\")"
   ]
  },
  {
   "cell_type": "code",
   "execution_count": 3,
   "metadata": {},
   "outputs": [
    {
     "name": "stdout",
     "output_type": "stream",
     "text": [
      "\n",
      "KCLUS done.\n",
      "\n",
      "ISOCLUS done.\n"
     ]
    }
   ],
   "source": [
    "# starting KCLUS module\n",
    "\n",
    "from pci.kclus import kclus\n",
    "\n",
    "file\t=\tin_file\n",
    "dbic\t=\t[9,-14]\t# input channels\n",
    "dboc\t=\t[1]\t# output channel\n",
    "mask\t=\t[]\t# process entire image\n",
    "numclus\t=\t[16]\t# requested number of clusters\n",
    "seedfile\t=\t''\t#  automatically generate seeds\n",
    "maxiter\t=\t[20]\t# no more than 20 iterations\n",
    "movethrs\t=\t[0.01]\n",
    "\n",
    "kclus( file, dbic, dboc, mask, numclus, seedfile, maxiter, movethrs)\n",
    "\n",
    "print(\"\")\n",
    "print ('KCLUS done.')\n",
    "\n",
    "\n",
    "# starting ISOCLUS module\n",
    "\n",
    "from pci.isoclus import *\n",
    "\n",
    "file\t=\tin_file\t# input file\n",
    "dbic\t=\t[9,-14]\t# input channels\n",
    "dboc\t=\t[2]\t# output channel\n",
    "mask\t=\t[]\t# process entire channel\n",
    "numclus\t=\t[10]\t# request 10 clusters\n",
    "maxclus\t=\t[20]\t# at most 20 clusters\n",
    "minclus\t=\t[5]\t# at least 5 clusters\n",
    "seedfile\t= \"\" \t# automatically generate seeds\n",
    "maxiter\t=\t[20]\t# no more than 20 iterations\n",
    "movethrs\t=\t[0.01]\n",
    "siggen\t=\t\"NO\"\t# no signature generation\n",
    "samprm\t=\t[5]     # minimum sample threshold\n",
    "stdv\t=\t[10.0]  # standard deviation\n",
    "lump\t=\t[1.0]   # lumping parameter\n",
    "maxpair\t=\t[5]\t# no more than 5 cluster center pairs clumped in one iteration\n",
    "backval\t=\t[]\t# no background value\n",
    "nsam\t=\t[]\t# default number of samples\n",
    "\n",
    "isoclus( file, dbic, dboc, mask, numclus, maxclus, minclus, seedfile, maxiter,\n",
    "         movethrs, siggen, samprm, stdv, lump, maxpair, backval, nsam )\n",
    "\n",
    "print(\"\")\n",
    "print ('ISOCLUS done.')"
   ]
  }
 ],
 "metadata": {
  "kernelspec": {
   "display_name": "Python 3",
   "language": "python",
   "name": "python3"
  },
  "language_info": {
   "codemirror_mode": {
    "name": "ipython",
    "version": 3
   },
   "file_extension": ".py",
   "mimetype": "text/x-python",
   "name": "python",
   "nbconvert_exporter": "python",
   "pygments_lexer": "ipython3",
   "version": "3.5.6"
  }
 },
 "nbformat": 4,
 "nbformat_minor": 4
}
