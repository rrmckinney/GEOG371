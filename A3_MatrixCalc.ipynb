{
 "cells": [
  {
   "cell_type": "code",
   "execution_count": 1,
   "metadata": {},
   "outputs": [
    {
     "name": "stdout",
     "output_type": "stream",
     "text": [
      "Start processing layers...\n",
      "2\n",
      "C:\\Users\\Reags\\g371-env\\Assignment 3\\MatrixFiles\\MLR_report_L2.txt\n",
      "3\n",
      "C:\\Users\\Reags\\g371-env\\Assignment 3\\MatrixFiles\\MLR_report_L3.txt\n",
      "4\n",
      "C:\\Users\\Reags\\g371-env\\Assignment 3\\MatrixFiles\\MLR_report_L4.txt\n",
      "5\n",
      "C:\\Users\\Reags\\g371-env\\Assignment 3\\MatrixFiles\\MLR_report_L5.txt\n",
      "All done. Check the working dir for the report files.\n"
     ]
    }
   ],
   "source": [
    "# Error matrices and related output are created with the MLR algorithm from the PCI API.\n",
    "# See the PCI Help for detailed info on the MLR algorithm and its outputs.\n",
    "\n",
    "import os\n",
    "from pci.mlr import mlr\n",
    "from pci.nspio import Report, enableDefaultReport\n",
    "\n",
    "# CHANGE THE WORKING_DIR AND CLASSIFIED_IMAGE ACCORDING TO YOUR FILE/FOLDER NAMES\n",
    "# set working directory and input file (the input file needs to be in that folder)\n",
    "# input file that has the raster reference samples as layer 1, followed by all raster classifications\n",
    "working_dir = r'C:\\Users\\Reags\\g371-env\\Assignment 3'\n",
    "classified_image = working_dir + os.sep + 'classification_merged1.pix'\n",
    "\n",
    "\n",
    "layers = (2,3,4,5)    # all classification layers to be used for matrix calculation\n",
    "\n",
    "print ('Start processing layers...')\n",
    "for x in layers:\n",
    "    \n",
    "    try:\n",
    "\n",
    "        # creating separate txt files for each MLR output\n",
    "        # folder 'MatrixFiles' will contain the MLR output txt files\n",
    "        # L# (e.g.) L2 indicates layer 2\n",
    "        print (x)\n",
    "        rep_file = os.path.join(working_dir + os.sep + 'MatrixFiles' + os.sep + os.path.basename('MLR_report_L') + str(x) + '.txt')\n",
    "        print (rep_file)\n",
    "        \n",
    "        Report.clear()\n",
    "        enableDefaultReport(rep_file)\n",
    "        \n",
    "        file=classified_image\n",
    "        units='KILO'\n",
    "        dbic=[x]\n",
    "        dbsa=[1]        # specifying layer 1 having the raster sample reference areas\n",
    "        dbs1=[]\n",
    "        matrix='YES'    # output error matrix set to yes\n",
    "        mask=[]\n",
    "        \n",
    "        mlr(file, units, dbic, dbsa, dbs1, matrix, mask)\n",
    "        \n",
    "    finally:\n",
    "        enableDefaultReport('term')  # this will close the report file\n",
    "\n",
    "print ('All done. Check the working dir for the report files.')\n"
   ]
  },
  {
   "cell_type": "code",
   "execution_count": null,
   "metadata": {},
   "outputs": [],
   "source": []
  }
 ],
 "metadata": {
  "kernelspec": {
   "display_name": "Python 3",
   "language": "python",
   "name": "python3"
  },
  "language_info": {
   "codemirror_mode": {
    "name": "ipython",
    "version": 3
   },
   "file_extension": ".py",
   "mimetype": "text/x-python",
   "name": "python",
   "nbconvert_exporter": "python",
   "pygments_lexer": "ipython3",
   "version": "3.5.6"
  }
 },
 "nbformat": 4,
 "nbformat_minor": 4
}
