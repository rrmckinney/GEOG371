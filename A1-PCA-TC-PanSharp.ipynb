{
 "cells": [
  {
   "cell_type": "markdown",
   "metadata": {},
   "source": [
    "# A1 - PCA, Tassel Cap, Pansharpening\n",
    "\n",
    "This notebook has code and directions to perform principal component analysis, tassel cap transformation, and pansharpening. Run the code cells according to the directions in the A1 document and comments provided in this notebook. Use the resulting images as directed."
   ]
  },
  {
   "cell_type": "markdown",
   "metadata": {},
   "source": [
    "### Principal Component Analysis (PCA)\n",
    "\n",
    "In order to run the PCA, the input file needs to be prepared first. Using another module (*PCIMOD*), additional channels will be added that will be used for the PCA bands (code cell below). This needs to be run first before doing the actual PCA (code cell below the PCIMOD one). Look at the comments in the code to make the neccesary changes before running the cells. You will also interact with the terminal for this part and use report information that you need to copy and paste from the terminal to a spreadsheet (e.g. Excel). The corresponding script *__A1-Pt2b-PCA.py__* can be used in IDLE if not using this notebook."
   ]
  },
  {
   "cell_type": "code",
   "execution_count": 1,
   "metadata": {},
   "outputs": [
    {
     "name": "stdout",
     "output_type": "stream",
     "text": [
      "\n",
      "PCIMOD completed. Channels were added.\n"
     ]
    }
   ],
   "source": [
    "# Using PCIMOD to add 6 32-bit unsigned channels to save PCA bands.\n",
    "\n",
    "# Importing the module\n",
    "from pci.pcimod import *\n",
    "\n",
    "# Input file name, including file path - you need to change this accordingly\n",
    "# Use the Kagoshima_L7multi_PCA.pix file with the correct path\n",
    "file = r'C:\\Users\\Reags\\g371-env\\Kagoshima_L7\\Kagoshima_L7multi_PCA.pix'\n",
    "pciop = 'ADD' \t        # set parameter to ADD channels\n",
    "pcival = [0, 0, 0, 6]   # set to add 6 32bit channels and no 8bit or 16bit signed or unsigned channels\n",
    "\n",
    "try:pcimod(file, pciop, pcival)\n",
    "except PCIException as e:print(e)\n",
    "except Exception as e:print(e)\n",
    "\n",
    "print(\"\")\n",
    "print(\"PCIMOD completed. Channels were added.\")"
   ]
  },
  {
   "cell_type": "code",
   "execution_count": 2,
   "metadata": {},
   "outputs": [
    {
     "name": "stdout",
     "output_type": "stream",
     "text": [
      "PCA calculation completed. Check result file in the output folder and information in the terminal window.\n"
     ]
    }
   ],
   "source": [
    "# PCA\n",
    "\n",
    "# Importing the module\n",
    "from pci.pca import *\n",
    "\n",
    "# Input file name, including file path - you need to change this accordingly\n",
    "# Use the Kagoshima_L7multi_PCA.pix file with the added bands and the correct path\n",
    "file\t=\tr'C:\\Users\\Reags\\g371-env\\Kagoshima_L7\\Kagoshima_L7multi_PCA.pix'\n",
    "dbic\t=\t[1,2,3,4,5,6]\n",
    "eign\t=\t[1,2,3,4,5,6]\t    # eigenchannels retained for output\n",
    "dboc\t=\t[7,8,9,10,11,12]\t# output to 6 new channels 7,8,9,10,11,12\n",
    "midpoint\t=\t[]\n",
    "devrange\t=\t[]\n",
    "mask\t=\t[]\n",
    "rtype\t=\t'LONG'\t# default short report [changed to LONG]\n",
    "\n",
    "pca( file, dbic, eign, dboc, midpoint, devrange, mask, rtype )\n",
    "\n",
    "print('PCA calculation completed. Check result file in the output folder and information in the terminal window.')"
   ]
  },
  {
   "cell_type": "markdown",
   "metadata": {},
   "source": [
    "## Tasseled Cap Transformation\n",
    "\n",
    " You only need to change the lines for the input and output files. The corresponding script *__A1-Pt2c-TC.py__* can be used in IDLE if not using this notebook."
   ]
  },
  {
   "cell_type": "code",
   "execution_count": 4,
   "metadata": {},
   "outputs": [
    {
     "name": "stdout",
     "output_type": "stream",
     "text": [
      "TC calculation completed. Check results in the output folder.\n"
     ]
    }
   ],
   "source": [
    "# Tassel Cap\n",
    "\n",
    "# Importing the module\n",
    "from pci.tassel import tassel\n",
    "\n",
    "# Input file name, including file path - you need to change this accordingly\n",
    "# Use the LT51960261989145KIS00_PIX.pix file with the correct path\n",
    "fili = r'C:\\Users\\Reags\\g371-env\\Strasbourg_L5\\LT51960261989145KIS00_PIX.pix'\n",
    "visirchn = [1,2,3,4,5,6]\n",
    "filo = r'C:\\Users\\Reags\\g371-env\\Strasbourg_L5\\LT51960261989145KIS00_PIX_TC.pix'\n",
    "ftype = 'PIX'\n",
    "foptions =''\n",
    "scaloffs = []\n",
    "scalfact = []\n",
    "datatype = '16S'\n",
    "\n",
    "tassel(fili, visirchn, filo, datatype, scaloffs, scalfact, ftype, foptions)\n",
    "\n",
    "print('TC calculation completed. Check results in the output folder.')"
   ]
  },
  {
   "cell_type": "markdown",
   "metadata": {},
   "source": [
    "## Pansharpening\n",
    "\n",
    "You only need to change the lines for the input and output files. The corresponding script *__A1-Pt2d-Pansharp.py__* can be used in IDLE if not using this notebook."
   ]
  },
  {
   "cell_type": "code",
   "execution_count": 6,
   "metadata": {},
   "outputs": [
    {
     "name": "stdout",
     "output_type": "stream",
     "text": [
      "Pansharpening completed. Check results in the output folder.\n"
     ]
    }
   ],
   "source": [
    "# Pansharpening\n",
    "\n",
    "# Importing the module\n",
    "from pci.pansharp import *\n",
    "\n",
    "# Input file name, including file path - you need to change this accordingly\n",
    "# Use the Kagoshima_L7multi.pix file with the correct path\n",
    "fili = r'C:\\Users\\Reags\\g371-env\\Kagoshima_L7\\Kagoshima_L7multi.pix'\n",
    "dbic\t=\t[1,2,3,4,5,6] # the bands to be sharpened\n",
    "dbic_ref\t=\tdbic\n",
    "fili_pan\t=\tr\"C:\\Users\\Reags\\g371-env\\Kagoshima_L7\\Kagoshima_L7pan.pix\" # the PAN image\n",
    "dbic_pan\t=\t[1]\n",
    "srcbgd\t= \"ANY,0\"\t# zero-valued pixels in any input image\n",
    "enhance\t=\t\"YES\"\t# apply the color enhancement operation\n",
    "resample =      \"BILIN\" # uses cubic resampling when resampling MS image to high resolution OPTION2: change to BILIN\n",
    "filo\t=\tr\"C:\\Users\\Reags\\g371-env\\Kagoshima_L7\\Kagoshima_L7pansharpBILIN.pix\"\n",
    "dboc\t=\t[1,2,3,4,5,6]\n",
    "ftype = \"PIX\"\t\t# the output file will be in PIX format\n",
    "foptions\t=\t\"\"\t# output file can be tiled but set to none\n",
    "poption\t=\t\"AVER\"\t# unweighted averaging resampling\n",
    "\n",
    "pansharp (fili, dbic, dbic_ref, fili_pan, dbic_pan, srcbgd, enhance, resample, filo, dboc, ftype, foptions, poption)\n",
    "print('Pansharpening completed. Check results in the output folder.')"
   ]
  },
  {
   "cell_type": "code",
   "execution_count": null,
   "metadata": {},
   "outputs": [],
   "source": []
  }
 ],
 "metadata": {
  "kernelspec": {
   "display_name": "Python 3",
   "language": "python",
   "name": "python3"
  },
  "language_info": {
   "codemirror_mode": {
    "name": "ipython",
    "version": 3
   },
   "file_extension": ".py",
   "mimetype": "text/x-python",
   "name": "python",
   "nbconvert_exporter": "python",
   "pygments_lexer": "ipython3",
   "version": "3.5.6"
  }
 },
 "nbformat": 4,
 "nbformat_minor": 4
}
