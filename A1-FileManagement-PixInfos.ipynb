{
 "cells": [
  {
   "cell_type": "markdown",
   "metadata": {},
   "source": [
    "# A1 - File management and working with images in the Geomatica API\n",
    "This notebook shows some basic file management and exploring images, using the Geomatica API. "
   ]
  },
  {
   "cell_type": "code",
   "execution_count": 1,
   "metadata": {},
   "outputs": [
    {
     "name": "stdout",
     "output_type": "stream",
     "text": [
      "2019.0.2\n",
      "Banff\n"
     ]
    }
   ],
   "source": [
    "# Importing PCI and quickly checking the version info\n",
    "import pci\n",
    "print (pci.version)\n",
    "print (pci.version_name)"
   ]
  },
  {
   "cell_type": "markdown",
   "metadata": {},
   "source": [
    "Most of the code below is from PCI website https://www.pcigeomatics.com/python-api-doc/index.html\n",
    "\n",
    "If you are using IDLE instead of Jupyter Notebook, the equivalent scripts with the same code as in this notebook are listed here:\n",
    "* *__A1-FileManagement-PixInfos1.py__*\n",
    "* *__A1-FileManagement-PixInfos2.py__*\n",
    "* *__A1-FileManagement-PixInfos3.py__*"
   ]
  },
  {
   "cell_type": "code",
   "execution_count": 2,
   "metadata": {},
   "outputs": [
    {
     "name": "stdout",
     "output_type": "stream",
     "text": [
      "Select a directory containing your input imagery (e.g. C:\\Users\\Reags\\g371-env\\Kitchener_L7) and hit enter.\n",
      "\n",
      "Please type in the input folder path (can contain subfolders)input\n",
      "Input folder is  input\n"
     ]
    }
   ],
   "source": [
    "# This cell lets you choose a folder and searches it for any pix files and prints the list of files it finds.\n",
    "# This cell would still execute without the Geomatica API, as it does not use its functionality.\n",
    "\n",
    "# Importing packages for extracting file names, getting stats, etc.\n",
    "import sys\n",
    "import os\n",
    "import fnmatch\n",
    "\n",
    "# User directions and information.\n",
    "print(r\"Select a directory containing your input imagery (e.g. C:\\Users\\Reags\\g371-env\\Kitchener_L7) and hit enter.\")\n",
    "print(\"\")\n",
    "\n",
    "# User can pick the input folder containing the pix files (incl. subfolders)\n",
    "InFolder = input('Please type in the input folder path (can contain subfolders)' )\n",
    "print(\"Input folder is \", InFolder)\n",
    "\n",
    "# Setting up a file filter, so only pix files are considered\n",
    "file_filter = \"*.pix\"\n",
    "\n",
    "# Setting up the list that will contain the full pathnames of each file in the InFolder\n",
    "input_files_list = []\n",
    "\n",
    "# --- Creating the file list from the input folder and subfolders with loops ---\n",
    "# os.walk searches a directory tree and produces the file names of the files found.\n",
    "# r is the main folder.\n",
    "# d is any subfolder.\n",
    "# f are image files (pix) within r\n",
    "for r, d, f in os.walk(InFolder):\n",
    "\tfor file in fnmatch.filter(f, file_filter):\n",
    "\t\tprint(\"Found valid input: \", file)\n",
    "\t\tinput_files_list.append(os.path.join(r, file))"
   ]
  },
  {
   "cell_type": "code",
   "execution_count": 3,
   "metadata": {},
   "outputs": [
    {
     "name": "stdout",
     "output_type": "stream",
     "text": [
      "\n",
      "File:  C:\\Users\\Reags\\g371-env\\Kitchener_L7\\L71018030_03020020810_radiance_sub.pix\n",
      "rows  2585\n",
      "columns  1436\n",
      "channels  6\n"
     ]
    }
   ],
   "source": [
    "# This code looks at some image info for one image\n",
    "\n",
    "# Importing the packages\n",
    "# You wouldn't need to import the same packages again usually, but this is just for demonstration...\n",
    "# ...to see what is required to run this cell independently.\n",
    "import os\n",
    "import pci\n",
    "from pci.api import datasource as ds\n",
    "\n",
    "# Get the path to any folder that contains pix files (example provided in code below)\n",
    "# Change the code accordingly to use a file that you can access.\n",
    "input_pix = os.path.join(r'C:\\Users\\Reags\\g371-env\\Kitchener_L7', 'L71018030_03020020810_radiance_sub.pix')\n",
    "\n",
    "# Open the dataset\n",
    "with ds.open_dataset(input_pix) as dataset:\n",
    "    rows = dataset.width\n",
    "    cols = dataset.height\n",
    "    chans = dataset.chan_count\n",
    "    \n",
    "# print the data dimensions\n",
    "print ('')\n",
    "print('File: ', input_pix)\n",
    "print('rows ', rows)\n",
    "print('columns ', cols)\n",
    "print('channels ', chans)\n"
   ]
  },
  {
   "cell_type": "code",
   "execution_count": 4,
   "metadata": {},
   "outputs": [
    {
     "name": "stdout",
     "output_type": "stream",
     "text": [
      "Select a directory containing your input imagery (e.g. C:\\Users\\Reags\\g371-env\\Kitchener_L7) and hit enter.C:\\Users\\Reags\\g371-env\\Kitchener_L7\n",
      "\n",
      "File:  C:\\Users\\Reags\\g371-env\\Kitchener_L7\\L71018030_03020020810_ATCOR_sub.pix\n",
      "rows  3300\n",
      "columns  2400\n",
      "channels  6\n",
      "\n",
      "File:  C:\\Users\\Reags\\g371-env\\Kitchener_L7\\L71018030_03020020810_radiance_sub.pix\n",
      "rows  2585\n",
      "columns  1436\n",
      "channels  6\n",
      "\n",
      "File:  C:\\Users\\Reags\\g371-env\\Kitchener_L7\\L71018030_03020020810_sub.pix\n",
      "rows  2585\n",
      "columns  1436\n",
      "channels  6\n"
     ]
    }
   ],
   "source": [
    "# Now we can combine the functionality of the two code cells above, exploring pix file properties in a folder.\n",
    "# In the IDLE version, the first two scripts (A1-FileManagement-PixInfos1.py, A1-FileManagement-PixInfos2.py)...\n",
    "# ...are combined in the script A1-FileManagement-PixInfos3.py\n",
    "\n",
    "# Importing the required packages\n",
    "import os\n",
    "import pci\n",
    "from pci.api import datasource as ds\n",
    "from pci.exceptions import *\n",
    "import sys\n",
    "import fnmatch\n",
    "\n",
    "# The locale settings ensure Python is configured...\n",
    "# ...the same way as PCI's C/C++ code\n",
    "import locale\n",
    "\n",
    "locale.setlocale(locale.LC_ALL, \"\")\n",
    "locale.setlocale(locale.LC_NUMERIC, \"C\")\n",
    "\n",
    "# ------ setting the input files -----\n",
    "# User can pick the input folder containing the pix files (incl. subfolders)\n",
    "InFolder = input(r\"Select a directory containing your input imagery (e.g. C:\\Users\\Reags\\g371-env\\Kitchener_L7) and hit enter.\")\n",
    "\n",
    "# Setting up a file filter, so only pix files are considered\n",
    "file_filter = \"*.pix\"\n",
    "\n",
    "# Setting up the list that will contain the full pathnames of each file in the InFolder\n",
    "input_files_list = []\n",
    "\n",
    "# --- Creating the file list from the input folders and subfolders with loops ---\n",
    "# os.walk searches a directory tree and produces the file names of the files found\n",
    "# r is the main folder\n",
    "# d is any subfolder\n",
    "# f are image files (pix) within r\n",
    "for r, d, f in os.walk(InFolder):\n",
    "    for images in fnmatch.filter(f, file_filter):\n",
    "        ##print((\"Found valid input: \"), images)\n",
    "        input_files_list.append(os.path.join(r, images))      \n",
    "\n",
    "# ---Looping over the valid pix files and generate the file properties\n",
    "for images in input_files_list:\n",
    "    \n",
    "    # define the properties to print later\n",
    "    with ds.open_dataset(images) as infile:\n",
    "        name = infile.name\n",
    "        rows = infile.width\n",
    "        cols = infile.height\n",
    "        chans = infile.chan_count\n",
    "\n",
    "        # print the data dimensions\n",
    "        print ('')\n",
    "        print(('File: '), name)\n",
    "        print(('rows '), rows)\n",
    "        print(('columns '), cols)\n",
    "        print(('channels '), chans)\n"
   ]
  },
  {
   "cell_type": "code",
   "execution_count": null,
   "metadata": {},
   "outputs": [],
   "source": []
  }
 ],
 "metadata": {
  "kernelspec": {
   "display_name": "Python 3",
   "language": "python",
   "name": "python3"
  },
  "language_info": {
   "codemirror_mode": {
    "name": "ipython",
    "version": 3
   },
   "file_extension": ".py",
   "mimetype": "text/x-python",
   "name": "python",
   "nbconvert_exporter": "python",
   "pygments_lexer": "ipython3",
   "version": "3.5.6"
  }
 },
 "nbformat": 4,
 "nbformat_minor": 4
}
